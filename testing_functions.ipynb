{
 "cells": [
  {
   "cell_type": "code",
   "execution_count": 1,
   "metadata": {
    "collapsed": false
   },
   "outputs": [
    {
     "name": "stderr",
     "output_type": "stream",
     "text": [
      "Warning message in eval(expr, envir, enclos):\n",
      "\"NAs introduzidos por coerção\""
     ]
    },
    {
     "data": {
      "image/png": "[encoded data removed]",
      "text/plain": [
       "Plot with title \"Histogram of outcome[, 11]\""
      ]
     },
     "metadata": {},
     "output_type": "display_data"
    }
   ],
   "source": [
    "# 1 Plot the 30-day mortality rates for heart attack\n",
    "outcome <- read.csv(\"outcome-of-care-measures.csv\", colClasses = \"character\")\n",
    "outcome[,11] <- as.numeric(outcome[,11])\n",
    "hist(outcome[,11])"
   ]
  },
  {
   "cell_type": "code",
   "execution_count": 2,
   "metadata": {
    "collapsed": false
   },
   "outputs": [
    {
     "data": {
      "text/html": [
       "'CYPRESS FAIRBANKS MEDICAL CENTER'"
      ],
      "text/latex": [
       "'CYPRESS FAIRBANKS MEDICAL CENTER'"
      ],
      "text/markdown": [
       "'CYPRESS FAIRBANKS MEDICAL CENTER'"
      ],
      "text/plain": [
       "[1] \"CYPRESS FAIRBANKS MEDICAL CENTER\""
      ]
     },
     "metadata": {},
     "output_type": "display_data"
    },
    {
     "data": {
      "text/html": [
       "'FORT DUNCAN MEDICAL CENTER'"
      ],
      "text/latex": [
       "'FORT DUNCAN MEDICAL CENTER'"
      ],
      "text/markdown": [
       "'FORT DUNCAN MEDICAL CENTER'"
      ],
      "text/plain": [
       "[1] \"FORT DUNCAN MEDICAL CENTER\""
      ]
     },
     "metadata": {},
     "output_type": "display_data"
    },
    {
     "data": {
      "text/html": [
       "'JOHNS HOPKINS HOSPITAL, THE'"
      ],
      "text/latex": [
       "'JOHNS HOPKINS HOSPITAL, THE'"
      ],
      "text/markdown": [
       "'JOHNS HOPKINS HOSPITAL, THE'"
      ],
      "text/plain": [
       "[1] \"JOHNS HOPKINS HOSPITAL, THE\""
      ]
     },
     "metadata": {},
     "output_type": "display_data"
    },
    {
     "data": {
      "text/html": [
       "'GREATER BALTIMORE MEDICAL CENTER'"
      ],
      "text/latex": [
       "'GREATER BALTIMORE MEDICAL CENTER'"
      ],
      "text/markdown": [
       "'GREATER BALTIMORE MEDICAL CENTER'"
      ],
      "text/plain": [
       "[1] \"GREATER BALTIMORE MEDICAL CENTER\""
      ]
     },
     "metadata": {},
     "output_type": "display_data"
    }
   ],
   "source": [
    "# 2 Finding the best hospital in a state\n",
    "source(\"best.R\")\n",
    "\n",
    "#Testing best\n",
    "best(\"TX\",\"heart attack\")\n",
    "best(\"TX\", \"heart failure\")\n",
    "best(\"MD\",\"heart attack\")\n",
    "best(\"MD\",\"pneumonia\")"
   ]
  },
  {
   "cell_type": "code",
   "execution_count": 3,
   "metadata": {
    "collapsed": false
   },
   "outputs": [
    {
     "ename": "ERROR",
     "evalue": "Error in best(\"BB\", \"heart attack\"): invalid state\n",
     "output_type": "error",
     "traceback": [
      "Error in best(\"BB\", \"heart attack\"): invalid state\nTraceback:\n",
      "1. best(\"BB\", \"heart attack\")",
      "2. stop(\"invalid state\")"
     ]
    }
   ],
   "source": [
    "best(\"BB\",\"heart attack\")"
   ]
  },
  {
   "cell_type": "code",
   "execution_count": 4,
   "metadata": {
    "collapsed": false
   },
   "outputs": [
    {
     "ename": "ERROR",
     "evalue": "Error in best(\"NY\", \"hert attack\"): invalid outcome\n",
     "output_type": "error",
     "traceback": [
      "Error in best(\"NY\", \"hert attack\"): invalid outcome\nTraceback:\n",
      "1. best(\"NY\", \"hert attack\")",
      "2. stop(\"invalid outcome\")"
     ]
    }
   ],
   "source": [
    "best(\"NY\",\"hert attack\")"
   ]
  },
  {
   "cell_type": "code",
   "execution_count": 5,
   "metadata": {
    "collapsed": false
   },
   "outputs": [
    {
     "data": {
      "text/html": [
       "'FORT DUNCAN MEDICAL CENTER'"
      ],
      "text/latex": [
       "'FORT DUNCAN MEDICAL CENTER'"
      ],
      "text/markdown": [
       "'FORT DUNCAN MEDICAL CENTER'"
      ],
      "text/plain": [
       "[1] \"FORT DUNCAN MEDICAL CENTER\""
      ]
     },
     "metadata": {},
     "output_type": "display_data"
    },
    {
     "data": {
      "text/html": [
       "'TOMBALL REGIONAL MEDICAL CENTER'"
      ],
      "text/latex": [
       "'TOMBALL REGIONAL MEDICAL CENTER'"
      ],
      "text/markdown": [
       "'TOMBALL REGIONAL MEDICAL CENTER'"
      ],
      "text/plain": [
       "[1] \"TOMBALL REGIONAL MEDICAL CENTER\""
      ]
     },
     "metadata": {},
     "output_type": "display_data"
    },
    {
     "data": {
      "text/html": [
       "'CYPRESS FAIRBANKS MEDICAL CENTER'"
      ],
      "text/latex": [
       "'CYPRESS FAIRBANKS MEDICAL CENTER'"
      ],
      "text/markdown": [
       "'CYPRESS FAIRBANKS MEDICAL CENTER'"
      ],
      "text/plain": [
       "[1] \"CYPRESS FAIRBANKS MEDICAL CENTER\""
      ]
     },
     "metadata": {},
     "output_type": "display_data"
    },
    {
     "data": {
      "text/html": [
       "'DETAR HOSPITAL NAVARRO'"
      ],
      "text/latex": [
       "'DETAR HOSPITAL NAVARRO'"
      ],
      "text/markdown": [
       "'DETAR HOSPITAL NAVARRO'"
      ],
      "text/plain": [
       "[1] \"DETAR HOSPITAL NAVARRO\""
      ]
     },
     "metadata": {},
     "output_type": "display_data"
    },
    {
     "data": {
      "text/html": [
       "'HARFORD MEMORIAL HOSPITAL'"
      ],
      "text/latex": [
       "'HARFORD MEMORIAL HOSPITAL'"
      ],
      "text/markdown": [
       "'HARFORD MEMORIAL HOSPITAL'"
      ],
      "text/plain": [
       "[1] \"HARFORD MEMORIAL HOSPITAL\""
      ]
     },
     "metadata": {},
     "output_type": "display_data"
    },
    {
     "data": {
      "text/html": [
       "'NA'"
      ],
      "text/latex": [
       "'NA'"
      ],
      "text/markdown": [
       "'NA'"
      ],
      "text/plain": [
       "[1] NA"
      ]
     },
     "metadata": {},
     "output_type": "display_data"
    }
   ],
   "source": [
    "# 3 Ranking hospitals by outcomee in a state\n",
    "source(\"rankhospital.R\")\n",
    "\n",
    "#Testing rankhospital\n",
    "rankhospital(\"TX\", \"heart failure\")\n",
    "rankhospital(\"TX\", \"heart failure\", 2)\n",
    "rankhospital(\"TX\", \"heart failure\", 3)\n",
    "rankhospital(\"TX\", \"heart failure\", 4)\n",
    "rankhospital(\"MD\", \"heart attack\", \"worst\")\n",
    "rankhospital(\"MN\", \"heart attack\", 5000)"
   ]
  },
  {
   "cell_type": "code",
   "execution_count": 6,
   "metadata": {
    "collapsed": false
   },
   "outputs": [
    {
     "data": {
      "text/html": [
       "<table>\n",
       "<thead><tr><th></th><th scope=col>hospital</th><th scope=col>state</th></tr></thead>\n",
       "<tbody>\n",
       "\t<tr><th scope=row>AK</th><td>NA                                 </td><td>AK                                 </td></tr>\n",
       "\t<tr><th scope=row>AL</th><td>D W MCMILLAN MEMORIAL HOSPITAL     </td><td>AL                                 </td></tr>\n",
       "\t<tr><th scope=row>AR</th><td>ARKANSAS METHODIST MEDICAL CENTER  </td><td>AR                                 </td></tr>\n",
       "\t<tr><th scope=row>AZ</th><td>JOHN C LINCOLN DEER VALLEY HOSPITAL</td><td>AZ                                 </td></tr>\n",
       "\t<tr><th scope=row>CA</th><td>SHERMAN OAKS HOSPITAL              </td><td>CA                                 </td></tr>\n",
       "\t<tr><th scope=row>CO</th><td>SKY RIDGE MEDICAL CENTER           </td><td>CO                                 </td></tr>\n",
       "\t<tr><th scope=row>CT</th><td>MIDSTATE MEDICAL CENTER            </td><td>CT                                 </td></tr>\n",
       "\t<tr><th scope=row>DC</th><td>NA                                 </td><td>DC                                 </td></tr>\n",
       "\t<tr><th scope=row>DE</th><td>NA                                 </td><td>DE                                 </td></tr>\n",
       "\t<tr><th scope=row>FL</th><td>SOUTH FLORIDA BAPTIST HOSPITAL     </td><td>FL                                 </td></tr>\n",
       "</tbody>\n",
       "</table>\n"
      ],
      "text/latex": [
       "\\begin{tabular}{r|ll}\n",
       "  & hospital & state\\\\\n",
       "\\hline\n",
       "\tAK & NA                                  & AK                                 \\\\\n",
       "\tAL & D W MCMILLAN MEMORIAL HOSPITAL      & AL                                 \\\\\n",
       "\tAR & ARKANSAS METHODIST MEDICAL CENTER   & AR                                 \\\\\n",
       "\tAZ & JOHN C LINCOLN DEER VALLEY HOSPITAL & AZ                                 \\\\\n",
       "\tCA & SHERMAN OAKS HOSPITAL               & CA                                 \\\\\n",
       "\tCO & SKY RIDGE MEDICAL CENTER            & CO                                 \\\\\n",
       "\tCT & MIDSTATE MEDICAL CENTER             & CT                                 \\\\\n",
       "\tDC & NA                                  & DC                                 \\\\\n",
       "\tDE & NA                                  & DE                                 \\\\\n",
       "\tFL & SOUTH FLORIDA BAPTIST HOSPITAL      & FL                                 \\\\\n",
       "\\end{tabular}\n"
      ],
      "text/markdown": [
       "\n",
       "| <!--/--> | hospital | state | \n",
       "|---|---|---|---|---|---|---|---|---|---|\n",
       "| AK | NA                                  | AK                                  | \n",
       "| AL | D W MCMILLAN MEMORIAL HOSPITAL      | AL                                  | \n",
       "| AR | ARKANSAS METHODIST MEDICAL CENTER   | AR                                  | \n",
       "| AZ | JOHN C LINCOLN DEER VALLEY HOSPITAL | AZ                                  | \n",
       "| CA | SHERMAN OAKS HOSPITAL               | CA                                  | \n",
       "| CO | SKY RIDGE MEDICAL CENTER            | CO                                  | \n",
       "| CT | MIDSTATE MEDICAL CENTER             | CT                                  | \n",
       "| DC | NA                                  | DC                                  | \n",
       "| DE | NA                                  | DE                                  | \n",
       "| FL | SOUTH FLORIDA BAPTIST HOSPITAL      | FL                                  | \n",
       "\n",
       "\n"
      ],
      "text/plain": [
       "   hospital                            state\n",
       "AK NA                                  AK   \n",
       "AL D W MCMILLAN MEMORIAL HOSPITAL      AL   \n",
       "AR ARKANSAS METHODIST MEDICAL CENTER   AR   \n",
       "AZ JOHN C LINCOLN DEER VALLEY HOSPITAL AZ   \n",
       "CA SHERMAN OAKS HOSPITAL               CA   \n",
       "CO SKY RIDGE MEDICAL CENTER            CO   \n",
       "CT MIDSTATE MEDICAL CENTER             CT   \n",
       "DC NA                                  DC   \n",
       "DE NA                                  DE   \n",
       "FL SOUTH FLORIDA BAPTIST HOSPITAL      FL   "
      ]
     },
     "metadata": {},
     "output_type": "display_data"
    },
    {
     "data": {
      "text/html": [
       "<table>\n",
       "<thead><tr><th></th><th scope=col>hospital</th><th scope=col>state</th></tr></thead>\n",
       "<tbody>\n",
       "\t<tr><th scope=row>WI</th><td>MAYO CLINIC HEALTH SYSTEM - NORTHLAND, INC</td><td>WI                                        </td></tr>\n",
       "\t<tr><th scope=row>WV</th><td>PLATEAU MEDICAL CENTER                    </td><td>WV                                        </td></tr>\n",
       "\t<tr><th scope=row>WY</th><td>NORTH BIG HORN HOSPITAL DISTRICT          </td><td>WY                                        </td></tr>\n",
       "</tbody>\n",
       "</table>\n"
      ],
      "text/latex": [
       "\\begin{tabular}{r|ll}\n",
       "  & hospital & state\\\\\n",
       "\\hline\n",
       "\tWI & MAYO CLINIC HEALTH SYSTEM - NORTHLAND, INC & WI                                        \\\\\n",
       "\tWV & PLATEAU MEDICAL CENTER                     & WV                                        \\\\\n",
       "\tWY & NORTH BIG HORN HOSPITAL DISTRICT           & WY                                        \\\\\n",
       "\\end{tabular}\n"
      ],
      "text/markdown": [
       "\n",
       "| <!--/--> | hospital | state | \n",
       "|---|---|---|\n",
       "| WI | MAYO CLINIC HEALTH SYSTEM - NORTHLAND, INC | WI                                         | \n",
       "| WV | PLATEAU MEDICAL CENTER                     | WV                                         | \n",
       "| WY | NORTH BIG HORN HOSPITAL DISTRICT           | WY                                         | \n",
       "\n",
       "\n"
      ],
      "text/plain": [
       "   hospital                                   state\n",
       "WI MAYO CLINIC HEALTH SYSTEM - NORTHLAND, INC WI   \n",
       "WV PLATEAU MEDICAL CENTER                     WV   \n",
       "WY NORTH BIG HORN HOSPITAL DISTRICT           WY   "
      ]
     },
     "metadata": {},
     "output_type": "display_data"
    },
    {
     "data": {
      "text/html": [
       "<table>\n",
       "<thead><tr><th></th><th scope=col>hospital</th><th scope=col>state</th></tr></thead>\n",
       "<tbody>\n",
       "\t<tr><th scope=row>TN</th><td>WELLMONT HAWKINS COUNTY MEMORIAL HOSPITAL                        </td><td>TN                                                               </td></tr>\n",
       "\t<tr><th scope=row>TX</th><td>FORT DUNCAN MEDICAL CENTER                                       </td><td>TX                                                               </td></tr>\n",
       "\t<tr><th scope=row>UT</th><td>VA SALT LAKE CITY HEALTHCARE - GEORGE E. WAHLEN VA MEDICAL CENTER</td><td>UT                                                               </td></tr>\n",
       "\t<tr><th scope=row>VA</th><td>SENTARA POTOMAC HOSPITAL                                         </td><td>VA                                                               </td></tr>\n",
       "\t<tr><th scope=row>VI</th><td><span style=white-space:pre-wrap>GOV JUAN F LUIS HOSPITAL &amp; MEDICAL CTR                           </span></td><td>VI                                                                                                           </td></tr>\n",
       "\t<tr><th scope=row>VT</th><td>SPRINGFIELD HOSPITAL                                             </td><td>VT                                                               </td></tr>\n",
       "\t<tr><th scope=row>WA</th><td>HARBORVIEW MEDICAL CENTER                                        </td><td>WA                                                               </td></tr>\n",
       "\t<tr><th scope=row>WI</th><td>AURORA ST LUKES MEDICAL CENTER                                   </td><td>WI                                                               </td></tr>\n",
       "\t<tr><th scope=row>WV</th><td>FAIRMONT GENERAL HOSPITAL                                        </td><td>WV                                                               </td></tr>\n",
       "\t<tr><th scope=row>WY</th><td>CHEYENNE VA MEDICAL CENTER                                       </td><td>WY                                                               </td></tr>\n",
       "</tbody>\n",
       "</table>\n"
      ],
      "text/latex": [
       "\\begin{tabular}{r|ll}\n",
       "  & hospital & state\\\\\n",
       "\\hline\n",
       "\tTN & WELLMONT HAWKINS COUNTY MEMORIAL HOSPITAL                         & TN                                                               \\\\\n",
       "\tTX & FORT DUNCAN MEDICAL CENTER                                        & TX                                                               \\\\\n",
       "\tUT & VA SALT LAKE CITY HEALTHCARE - GEORGE E. WAHLEN VA MEDICAL CENTER & UT                                                               \\\\\n",
       "\tVA & SENTARA POTOMAC HOSPITAL                                          & VA                                                               \\\\\n",
       "\tVI & GOV JUAN F LUIS HOSPITAL \\& MEDICAL CTR                            & VI                                                                 \\\\\n",
       "\tVT & SPRINGFIELD HOSPITAL                                              & VT                                                               \\\\\n",
       "\tWA & HARBORVIEW MEDICAL CENTER                                         & WA                                                               \\\\\n",
       "\tWI & AURORA ST LUKES MEDICAL CENTER                                    & WI                                                               \\\\\n",
       "\tWV & FAIRMONT GENERAL HOSPITAL                                         & WV                                                               \\\\\n",
       "\tWY & CHEYENNE VA MEDICAL CENTER                                        & WY                                                               \\\\\n",
       "\\end{tabular}\n"
      ],
      "text/markdown": [
       "\n",
       "| <!--/--> | hospital | state | \n",
       "|---|---|---|---|---|---|---|---|---|---|\n",
       "| TN | WELLMONT HAWKINS COUNTY MEMORIAL HOSPITAL                         | TN                                                                | \n",
       "| TX | FORT DUNCAN MEDICAL CENTER                                        | TX                                                                | \n",
       "| UT | VA SALT LAKE CITY HEALTHCARE - GEORGE E. WAHLEN VA MEDICAL CENTER | UT                                                                | \n",
       "| VA | SENTARA POTOMAC HOSPITAL                                          | VA                                                                | \n",
       "| VI | GOV JUAN F LUIS HOSPITAL & MEDICAL CTR                            | VI                                                                | \n",
       "| VT | SPRINGFIELD HOSPITAL                                              | VT                                                                | \n",
       "| WA | HARBORVIEW MEDICAL CENTER                                         | WA                                                                | \n",
       "| WI | AURORA ST LUKES MEDICAL CENTER                                    | WI                                                                | \n",
       "| WV | FAIRMONT GENERAL HOSPITAL                                         | WV                                                                | \n",
       "| WY | CHEYENNE VA MEDICAL CENTER                                        | WY                                                                | \n",
       "\n",
       "\n"
      ],
      "text/plain": [
       "   hospital                                                          state\n",
       "TN WELLMONT HAWKINS COUNTY MEMORIAL HOSPITAL                         TN   \n",
       "TX FORT DUNCAN MEDICAL CENTER                                        TX   \n",
       "UT VA SALT LAKE CITY HEALTHCARE - GEORGE E. WAHLEN VA MEDICAL CENTER UT   \n",
       "VA SENTARA POTOMAC HOSPITAL                                          VA   \n",
       "VI GOV JUAN F LUIS HOSPITAL & MEDICAL CTR                            VI   \n",
       "VT SPRINGFIELD HOSPITAL                                              VT   \n",
       "WA HARBORVIEW MEDICAL CENTER                                         WA   \n",
       "WI AURORA ST LUKES MEDICAL CENTER                                    WI   \n",
       "WV FAIRMONT GENERAL HOSPITAL                                         WV   \n",
       "WY CHEYENNE VA MEDICAL CENTER                                        WY   "
      ]
     },
     "metadata": {},
     "output_type": "display_data"
    }
   ],
   "source": [
    "# 4 Ranking hospitals in all states\n",
    "source(\"rankall.R\")\n",
    "\n",
    "#Testing rankall\n",
    "head(rankall(\"heart attack\",20),10)\n",
    "tail(rankall(\"pneumonia\",\"worst\"),3)\n",
    "tail(rankall(\"heart failure\"),10)"
   ]
  }
 ],
 "metadata": {
  "anaconda-cloud": {},
  "kernelspec": {
   "display_name": "R",
   "language": "R",
   "name": "ir"
  },
  "language_info": {
   "codemirror_mode": "r",
   "file_extension": ".r",
   "mimetype": "text/x-r-source",
   "name": "R",
   "pygments_lexer": "r",
   "version": "3.3.2"
  }
 },
 "nbformat": 4,
 "nbformat_minor": 1
}
